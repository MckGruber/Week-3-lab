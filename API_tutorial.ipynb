{
 "cells": [
  {
   "cell_type": "markdown",
   "metadata": {},
   "source": [
    "## **What is an API?**\n",
    "\n",
    "APIs are mechanisms that enable two software components to communicate with each other using a set of definitions and protocols. For example, the weather bureau’s software system contains daily weather data. The weather app on your phone “talks” to this system via APIs and shows you daily weather updates on your phone.\n",
    "\n",
    "Watch this short video on [What is an API?](https://www.youtube.com/watch?v=s7wmiS2mSXY)\n",
    "\n",
    "**What does API stand for?**\n",
    "\n",
    "API stands for ***Application Programming Interface***.\n",
    "- In the context of APIs, the word *Application* refers to any software with a distinct function.\n",
    "- *Interface* can be thought of as a contract of service between two applications. This contract defines how the two communicate with each other using requests and responses.\n",
    "\n",
    "**How do APIs work?**\n",
    "\n",
    "API architecture is usually explained in terms of *client* and *server*.\n",
    "- Application sending the request is called the client\n",
    "- Application sending the response is called the server.\n",
    "\n",
    "So in the weather example, the bureau’s weather database is the server, and the mobile app is the client.\n",
    "\n",
    "<img src=\"https://blog.calameo.com/wp-content/uploads/2017/10/API-EN-1.png\" width=600 height = 280 />\n",
    "---"
   ]
  },
  {
   "cell_type": "markdown",
   "metadata": {},
   "source": [
    "### **Tutorial: Using an API to Collect AQI Data from AirNow**\n",
    "**Sign Up for the AirNow API**\n",
    "\n",
    "To access AQI data, you need an API key from AirNow. Follow these steps:\n",
    "1. Go to [AirNow API Sign-Up](https://docs.airnowapi.org/login).\n",
    "2. Fill out the required information.\n",
    "3. You will receive an API key via email. This key allows you to authenticate your requests.\n",
    "\n",
    "We will need Python’s `requests` library to interact with the API. \n",
    "\n",
    "Install it using pip if you don’t have it: `pip install requests`\n",
    "\n",
    "\n"
   ]
  },
  {
   "cell_type": "code",
   "execution_count": 5,
   "metadata": {},
   "outputs": [],
   "source": [
    "# Import libraries\n",
    "import requests\n",
    "import pandas as pd"
   ]
  },
  {
   "cell_type": "code",
   "execution_count": 6,
   "metadata": {},
   "outputs": [],
   "source": [
    "# Set your API key here\n",
    "API_KEY = \"B564B03E-2A11-4E17-B458-2BF085EFEB06\""
   ]
  },
  {
   "cell_type": "markdown",
   "metadata": {},
   "source": [
    "**Understand API Documentation**\n",
    "\n",
    "API documentation is a guide provided by the API provider, explaining how to make requests. For the AirNow API, the documentation is available [here](https://docs.airnowapi.org/webservices).\n",
    "\n",
    "Key information includes:\n",
    "- Base URL: https://www.airnowapi.org/aq/observation/zipCode/current/\n",
    "- Required Parameters:\n",
    "    - `API_KEY`: Your unique API key.\n",
    "    - `zipCode`: The postal code for the location you're interested in.\n",
    "    - `format`: Data format (typically application/json for JSON responses).\n",
    "    - `distance`: The radius around the zip code to include in miles."
   ]
  },
  {
   "cell_type": "code",
   "execution_count": 7,
   "metadata": {},
   "outputs": [],
   "source": [
    "# Define the endpoint and parameters\n",
    "base_url = \"https://www.airnowapi.org/aq/observation/zipCode/current/\"\n",
    "parameters = {\n",
    "  \"format\": \"application/json\",\n",
    "  \"zipCode\": \"93401\",  # San Luis Obispo ZIP code\n",
    "  \"distance\": \"25\",    # Distance in miles\n",
    "  \"API_KEY\": API_KEY\n",
    "}"
   ]
  },
  {
   "cell_type": "code",
   "execution_count": 8,
   "metadata": {},
   "outputs": [],
   "source": [
    "# Make the request to the AirNow API\n",
    "response = requests.get(base_url, params = parameters)"
   ]
  },
  {
   "cell_type": "code",
   "execution_count": 9,
   "metadata": {},
   "outputs": [
    {
     "name": "stdout",
     "output_type": "stream",
     "text": [
      "AQI Data: [{'DateObserved': '2024-10-14', 'HourObserved': 12, 'LocalTimeZone': 'PST', 'ReportingArea': 'San Luis Obispo', 'StateCode': 'CA', 'Latitude': 35.27, 'Longitude': -120.66, 'ParameterName': 'PM2.5', 'AQI': 13, 'Category': {'Number': 1, 'Name': 'Good'}}, {'DateObserved': '2024-10-14', 'HourObserved': 12, 'LocalTimeZone': 'PST', 'ReportingArea': 'San Luis Obispo', 'StateCode': 'CA', 'Latitude': 35.27, 'Longitude': -120.66, 'ParameterName': 'PM10', 'AQI': 6, 'Category': {'Number': 1, 'Name': 'Good'}}]\n"
     ]
    }
   ],
   "source": [
    "# Check if the request was successful\n",
    "if response.status_code == 200:\n",
    "    data = response.json()\n",
    "    print(\"AQI Data:\", data)\n",
    "else:\n",
    "    print(f\"Failed to retrieve data. Status code: {response.status_code}\")"
   ]
  },
  {
   "cell_type": "code",
   "execution_count": 10,
   "metadata": {},
   "outputs": [
    {
     "data": {
      "text/plain": [
       "[{'DateObserved': '2024-10-14',\n",
       "  'HourObserved': 12,\n",
       "  'LocalTimeZone': 'PST',\n",
       "  'ReportingArea': 'San Luis Obispo',\n",
       "  'StateCode': 'CA',\n",
       "  'Latitude': 35.27,\n",
       "  'Longitude': -120.66,\n",
       "  'ParameterName': 'PM2.5',\n",
       "  'AQI': 13,\n",
       "  'Category': {'Number': 1, 'Name': 'Good'}},\n",
       " {'DateObserved': '2024-10-14',\n",
       "  'HourObserved': 12,\n",
       "  'LocalTimeZone': 'PST',\n",
       "  'ReportingArea': 'San Luis Obispo',\n",
       "  'StateCode': 'CA',\n",
       "  'Latitude': 35.27,\n",
       "  'Longitude': -120.66,\n",
       "  'ParameterName': 'PM10',\n",
       "  'AQI': 6,\n",
       "  'Category': {'Number': 1, 'Name': 'Good'}}]"
      ]
     },
     "execution_count": 10,
     "metadata": {},
     "output_type": "execute_result"
    }
   ],
   "source": [
    "data"
   ]
  },
  {
   "cell_type": "markdown",
   "metadata": {},
   "source": [
    "**Analyzing the Response**\n",
    "\n",
    "If the request is successful, you will receive AQI data in JSON format. Each entry in the response will contain details such as:\n",
    "- `AQI`: The Air Quality Index value.\n",
    "- `Category`: The category of air quality (Good, Moderate, Unhealthy, etc.).\n",
    "- `DateObserved`: The time when the AQI was recorded.\n",
    "- `ParameterName`: The type of pollutant measured (e.g., PM2.5, PM10).\n"
   ]
  },
  {
   "cell_type": "code",
   "execution_count": 11,
   "metadata": {},
   "outputs": [],
   "source": [
    "# Access specific values\n"
   ]
  },
  {
   "cell_type": "code",
   "execution_count": 12,
   "metadata": {},
   "outputs": [],
   "source": [
    "# Access all category names\n"
   ]
  },
  {
   "cell_type": "code",
   "execution_count": 13,
   "metadata": {},
   "outputs": [
    {
     "data": {
      "text/html": [
       "<div>\n",
       "<style scoped>\n",
       "    .dataframe tbody tr th:only-of-type {\n",
       "        vertical-align: middle;\n",
       "    }\n",
       "\n",
       "    .dataframe tbody tr th {\n",
       "        vertical-align: top;\n",
       "    }\n",
       "\n",
       "    .dataframe thead th {\n",
       "        text-align: right;\n",
       "    }\n",
       "</style>\n",
       "<table border=\"1\" class=\"dataframe\">\n",
       "  <thead>\n",
       "    <tr style=\"text-align: right;\">\n",
       "      <th></th>\n",
       "      <th>DateObserved</th>\n",
       "      <th>HourObserved</th>\n",
       "      <th>LocalTimeZone</th>\n",
       "      <th>ReportingArea</th>\n",
       "      <th>StateCode</th>\n",
       "      <th>Latitude</th>\n",
       "      <th>Longitude</th>\n",
       "      <th>ParameterName</th>\n",
       "      <th>AQI</th>\n",
       "      <th>Category.Number</th>\n",
       "      <th>Category.Name</th>\n",
       "    </tr>\n",
       "  </thead>\n",
       "  <tbody>\n",
       "    <tr>\n",
       "      <th>0</th>\n",
       "      <td>2024-10-14</td>\n",
       "      <td>12</td>\n",
       "      <td>PST</td>\n",
       "      <td>San Luis Obispo</td>\n",
       "      <td>CA</td>\n",
       "      <td>35.27</td>\n",
       "      <td>-120.66</td>\n",
       "      <td>PM2.5</td>\n",
       "      <td>13</td>\n",
       "      <td>1</td>\n",
       "      <td>Good</td>\n",
       "    </tr>\n",
       "    <tr>\n",
       "      <th>1</th>\n",
       "      <td>2024-10-14</td>\n",
       "      <td>12</td>\n",
       "      <td>PST</td>\n",
       "      <td>San Luis Obispo</td>\n",
       "      <td>CA</td>\n",
       "      <td>35.27</td>\n",
       "      <td>-120.66</td>\n",
       "      <td>PM10</td>\n",
       "      <td>6</td>\n",
       "      <td>1</td>\n",
       "      <td>Good</td>\n",
       "    </tr>\n",
       "  </tbody>\n",
       "</table>\n",
       "</div>"
      ],
      "text/plain": [
       "  DateObserved  HourObserved LocalTimeZone    ReportingArea StateCode  \\\n",
       "0   2024-10-14            12           PST  San Luis Obispo        CA   \n",
       "1   2024-10-14            12           PST  San Luis Obispo        CA   \n",
       "\n",
       "   Latitude  Longitude ParameterName  AQI  Category.Number Category.Name  \n",
       "0     35.27    -120.66         PM2.5   13                1          Good  \n",
       "1     35.27    -120.66          PM10    6                1          Good  "
      ]
     },
     "execution_count": 13,
     "metadata": {},
     "output_type": "execute_result"
    }
   ],
   "source": [
    "# Convert JSON to Pandas DataFrame\n",
    "df = pd.json_normalize(data)\n",
    "df"
   ]
  }
 ],
 "metadata": {
  "kernelspec": {
   "display_name": "Python 3",
   "language": "python",
   "name": "python3"
  },
  "language_info": {
   "codemirror_mode": {
    "name": "ipython",
    "version": 3
   },
   "file_extension": ".py",
   "mimetype": "text/x-python",
   "name": "python",
   "nbconvert_exporter": "python",
   "pygments_lexer": "ipython3",
   "version": "3.12.2"
  }
 },
 "nbformat": 4,
 "nbformat_minor": 2
}
